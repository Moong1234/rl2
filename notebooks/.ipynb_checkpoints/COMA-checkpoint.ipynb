{
 "cells": [
  {
   "cell_type": "markdown",
   "id": "f745b53f",
   "metadata": {},
   "source": [
    "**centralised critic** to estimate the **Q-function** and **decentralised actors** to optimise the agents’ policies\n",
    "\n",
    "counterfactual baseline : marginalises out a single agent’s action, while keeping the other agents’actions fixed\n",
    "\n",
    "shaped reward : compares global reward to teh reward received when the agent's action is replaced with default action\n",
    "\n",
    "cent. ciritic computes agent-specific advantage function\n",
    "\n",
    "expected contribution of the counterfactual baseline to the policy gradient is zero."
   ]
  },
  {
   "cell_type": "code",
   "execution_count": 1,
   "id": "07917690",
   "metadata": {},
   "outputs": [],
   "source": [
    "import torch\n",
    "from torch import nn"
   ]
  },
  {
   "cell_type": "code",
   "execution_count": 2,
   "id": "ac038c52",
   "metadata": {},
   "outputs": [],
   "source": [
    "from marlenv.wrappers import make_snake\n",
    "from rl2.workers.multi_agent import SelfMaxStepWorker\n",
    "from rl2.agents.maddpg import MADDPGAgent\n",
    "from rl2.models.torch.base import BranchModel"
   ]
  },
  {
   "cell_type": "code",
   "execution_count": 14,
   "id": "61e49f00",
   "metadata": {},
   "outputs": [],
   "source": [
    "env_config = dict(\n",
    "    num_envs=4,\n",
    "    num_snakes=3,\n",
    "    vision_range=5,\n",
    ")"
   ]
  },
  {
   "cell_type": "code",
   "execution_count": 15,
   "id": "550b4902",
   "metadata": {},
   "outputs": [],
   "source": [
    "env, obs_shape, ac_shape, properties = make_snake(**env_config)"
   ]
  },
  {
   "cell_type": "code",
   "execution_count": 3,
   "id": "95260d0b",
   "metadata": {},
   "outputs": [
    {
     "data": {
      "text/plain": [
       "True"
      ]
     },
     "execution_count": 3,
     "metadata": {},
     "output_type": "execute_result"
    }
   ],
   "source": [
    "torch.cuda.is_available()"
   ]
  },
  {
   "cell_type": "code",
   "execution_count": 11,
   "id": "2cc207a6",
   "metadata": {},
   "outputs": [
    {
     "data": {
      "text/plain": [
       "BranchModel(\n",
       "  (encoder): BaseEncoder(\n",
       "    (net): ConvEnc(\n",
       "      (conv): Sequential(\n",
       "        (0): Conv2d(20, 16, kernel_size=(3, 3), stride=(1, 1), padding=(1, 1))\n",
       "        (1): ReLU()\n",
       "        (2): MaxPool2d(kernel_size=2, stride=2, padding=0, dilation=1, ceil_mode=False)\n",
       "      )\n",
       "      (fc): Sequential(\n",
       "        (0): Linear(in_features=640, out_features=64, bias=True)\n",
       "        (1): ReLU()\n",
       "      )\n",
       "    )\n",
       "  )\n",
       "  (head): ScalarHead(\n",
       "    (linear): MLP(\n",
       "      (body): Sequential(\n",
       "        (0): Linear(in_features=64, out_features=5, bias=True)\n",
       "      )\n",
       "    )\n",
       "  )\n",
       ")"
      ]
     },
     "execution_count": 11,
     "metadata": {},
     "output_type": "execute_result"
    }
   ],
   "source": [
    "actor = BranchModel(obs_shape, ac_shape, determistic=False)"
   ]
  },
  {
   "cell_type": "code",
   "execution_count": 11,
   "id": "ca82a093",
   "metadata": {},
   "outputs": [],
   "source": [
    "class Encoder(nn.Module):\n",
    "    def __init__(self, obs_shape, out_shape):\n",
    "        super().__init__()\n",
    "        self.body = nn.Sequential(\n",
    "            nn.Conv2d(6, 16, 3, padding=1),\n",
    "            nn.ReLU(),\n",
    "            nn.MaxPool2d(2, stride=2),\n",
    "            nn.Conv2d(16, 32, 3, padding=1),\n",
    "            nn.ReLU(),\n",
    "            nn.MaxPool2d(2, stride=2)\n",
    "        )\n",
    "        dummy = torch.zeros(1, obs_shape[-1], *obs_shape[:-1])\n",
    "        with torch.no_grad():\n",
    "            ir_shape = self.body(dummy).flatten().shape[-1]\n",
    "        self.head = nn.Linear(ir_shape, out_shape)\n",
    "\n",
    "    def forward(self, x):\n",
    "        x = x / 255.\n",
    "        ir = self.body(x)\n",
    "        ir = ir.flatten(start_dim=1)\n",
    "        ir = torch.tanh(self.head(ir))\n",
    "        return ir"
   ]
  },
  {
   "cell_type": "code",
   "execution_count": null,
   "id": "a332a95b",
   "metadata": {},
   "outputs": [],
   "source": [
    "centralized_critic = BranchModel(deterministic=False, discrete=True)"
   ]
  },
  {
   "cell_type": "code",
   "execution_count": null,
   "id": "5d5be845",
   "metadata": {},
   "outputs": [],
   "source": [
    "worker = SelfMaxStepWorker(env=env, agent=agent, training=True, max_steps=1e7)\n",
    "worker.run()"
   ]
  }
 ],
 "metadata": {
  "kernelspec": {
   "display_name": "Python 3",
   "language": "python",
   "name": "python3"
  },
  "language_info": {
   "codemirror_mode": {
    "name": "ipython",
    "version": 3
   },
   "file_extension": ".py",
   "mimetype": "text/x-python",
   "name": "python",
   "nbconvert_exporter": "python",
   "pygments_lexer": "ipython3",
   "version": "3.7.9"
  }
 },
 "nbformat": 4,
 "nbformat_minor": 5
}
